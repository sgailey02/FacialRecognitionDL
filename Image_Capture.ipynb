import cv2
import os
import random
import numpy as np
from matplotlib import pyplot as plt
import pandas
import uuid

# Setup Paths
POS_PATH = os.path.join('data', 'positive')
NEG_PATH = os.path.join('data', 'negative')
ANC_PATH = os.path.join('data', 'anchor')
os.makedirs(POS_PATH)
os.makedirs(NEG_PATH)
os.makedirs(ANC_PATH)
# establish connection to webcap
# number in parenthesis depends on each user, mine happend to be 0
cap = cv2.VideoCapture(0)
while cap.isOpened():
    ret, frame = cap.read()

    # cut frame to 250x250
    frame = frame[120:120 + 250, 200:200 + 250, :]
    # Collect anchors
    if cv2.waitKey(1) & 0XFF == ord('a'):
        # create unique file pathq
        imgname = os.path.join(ANC_PATH, '{}.jpg'.format(uuid.uuid1()))
        # write out anchor image
        cv2.imwrite(imgname, frame)

    # Collect positives
    if cv2.waitKey(1) & 0XFF == ord('p'):
        # create unique file path
        imgname = os.path.join(POS_PATH, '{}.jpg'.format(uuid.uuid1()))
        # write out positive image
        cv2.imwrite(imgname, frame)

    # show image back to screen
    cv2.imshow('Image Collection', frame)

    # breaking gracefully
    if cv2.waitKey(1) & 0XFF == ord('q'):
        break

# Release the webcam
cap.release()
# Close image show frame
cv2.destroyAllWindows()